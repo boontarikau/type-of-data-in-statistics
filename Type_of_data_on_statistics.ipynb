{
  "nbformat": 4,
  "nbformat_minor": 0,
  "metadata": {
    "colab": {
      "private_outputs": true,
      "provenance": [],
      "mount_file_id": "1fmUBklSkqiwI4WrNNJ-rT4_2F0wyyT9k",
      "authorship_tag": "ABX9TyMrzIwVSd5rN41CH7lsS05C",
      "include_colab_link": true
    },
    "kernelspec": {
      "name": "python3",
      "display_name": "Python 3"
    },
    "language_info": {
      "name": "python"
    }
  },
  "cells": [
    {
      "cell_type": "markdown",
      "metadata": {
        "id": "view-in-github",
        "colab_type": "text"
      },
      "source": [
        "<a href=\"https://colab.research.google.com/github/boontarikau/type-of-data-in-statistics/blob/main/Type_of_data_on_statistics.ipynb\" target=\"_parent\"><img src=\"https://colab.research.google.com/assets/colab-badge.svg\" alt=\"Open In Colab\"/></a>"
      ]
    },
    {
      "cell_type": "markdown",
      "source": [
        "Data source:\n",
        "Data is available in CSV format through the link below:\n",
        "\n",
        "(https://data.sfgov.org/City-Management-and-Ethics/Employee-Compensation/88g8-5mnd)\\\n",
        "\n",
        "Data Provided by: SF Controller's Office italicized text\n",
        "\n",
        "Dataset Owner: OpenData"
      ],
      "metadata": {
        "id": "EaGy4jziG38z"
      }
    },
    {
      "cell_type": "markdown",
      "source": [
        "The San Francisco Controller's Office maintains a database of the salary and benefits paid to City employees since fiscal year 2013. This data is summarized and presented on the Employee Compensation report from 2013 to 2023 both in fiscal. New data is added on a bi-annual basis when available for each fiscal and calendar year."
      ],
      "metadata": {
        "id": "bBgpKlLMG8RZ"
      }
    },
    {
      "cell_type": "markdown",
      "source": [],
      "metadata": {
        "id": "lW_PzHabG8Vp"
      }
    },
    {
      "cell_type": "markdown",
      "source": [],
      "metadata": {
        "id": "gLvf6g9ZG4sR"
      }
    },
    {
      "cell_type": "code",
      "source": [
        "import pandas as pd\n",
        "import numpy as np\n",
        "import matplotlib.pyplot as plt\n",
        "import seaborn as sns\n",
        "from sklearn.linear_model import LinearRegression\n",
        "import warnings\n",
        "warnings.filterwarnings('ignore')"
      ],
      "metadata": {
        "id": "U_PlWaLfG5s1"
      },
      "execution_count": null,
      "outputs": []
    },
    {
      "cell_type": "code",
      "source": [
        "df_original=pd.read_csv('/content/drive/MyDrive/analysis/stats/Copy of Employee_Compensation (1).csv')"
      ],
      "metadata": {
        "id": "6p-cIBhtCtuK"
      },
      "execution_count": null,
      "outputs": []
    },
    {
      "cell_type": "code",
      "source": [
        "#over view tha data\n",
        "df_original.head()"
      ],
      "metadata": {
        "id": "KoGh6YqHDe29"
      },
      "execution_count": null,
      "outputs": []
    },
    {
      "cell_type": "code",
      "source": [
        "#show the rows and columns of the data set\n",
        "df_original.shape"
      ],
      "metadata": {
        "id": "aUEvbPGDDgZk"
      },
      "execution_count": null,
      "outputs": []
    },
    {
      "cell_type": "code",
      "source": [
        "#find out null value\n",
        "display(df_original.isnull().sum())"
      ],
      "metadata": {
        "id": "L2lZsnHZIVNJ"
      },
      "execution_count": null,
      "outputs": []
    },
    {
      "cell_type": "markdown",
      "source": [
        "Since, there are only  Department Cod= 2 ,Department=\t2, Union Code\t=180,Union\t=179, Job\t= 5 and to compare with 881800 rows. There are less and we can remove them"
      ],
      "metadata": {
        "id": "-rpqJrY8JZAI"
      }
    },
    {
      "cell_type": "code",
      "source": [
        "#delete null value\n",
        "df = df_original.dropna()\n",
        "display(df.shape)"
      ],
      "metadata": {
        "id": "FTNCfNqQI5ht"
      },
      "execution_count": null,
      "outputs": []
    },
    {
      "cell_type": "code",
      "source": [
        "#type of each columns\n",
        "df.dtypes"
      ],
      "metadata": {
        "id": "CbZduDzPJXZR"
      },
      "execution_count": null,
      "outputs": []
    },
    {
      "cell_type": "code",
      "source": [
        "#data type casting: change data type into numeric data\n",
        "numeric_columns=['Salaries','Overtime','Other Salaries','Total Salary','Retirement','Health and Dental','Other Benefits','Total Benefits','Total Compensation']\n",
        "for i in df.columns:\n",
        "  if i not in numeric_columns:\n",
        "    df[i]=df[i].astype('object')\n",
        "df.dtypes"
      ],
      "metadata": {
        "id": "bOkxOasKNm6S"
      },
      "execution_count": null,
      "outputs": []
    },
    {
      "cell_type": "code",
      "source": [
        "df.describe()"
      ],
      "metadata": {
        "id": "D7Uvx99xrhBR"
      },
      "execution_count": null,
      "outputs": []
    },
    {
      "cell_type": "code",
      "source": [
        "#seperate fiscal and calendar to analyze the statistical describe\n",
        "df_f=df[df['Year Type']=='Fiscal']\n",
        "df_c=df[df['Year Type']=='Calendar']\n",
        "print (df_f.shape, df_c.shape)"
      ],
      "metadata": {
        "id": "-ZMlLb5SrnCP"
      },
      "execution_count": null,
      "outputs": []
    },
    {
      "cell_type": "code",
      "source": [
        "df_f.describe()"
      ],
      "metadata": {
        "id": "LVIcrf2SvW7L"
      },
      "execution_count": null,
      "outputs": []
    },
    {
      "cell_type": "code",
      "source": [
        "#from data above, ath salaries can not be negetive amount\n",
        "df_f[df['Salaries']<0]"
      ],
      "metadata": {
        "id": "sN4541vuvhHE"
      },
      "execution_count": null,
      "outputs": []
    },
    {
      "cell_type": "code",
      "source": [
        "df_f[df_f['Salaries']<0].min()"
      ],
      "metadata": {
        "id": "jmtKpHSnv0ID"
      },
      "execution_count": null,
      "outputs": []
    },
    {
      "cell_type": "code",
      "source": [
        "df_f[df_f['Salaries']>250000]"
      ],
      "metadata": {
        "id": "E-mlfumIwM6k"
      },
      "execution_count": null,
      "outputs": []
    },
    {
      "cell_type": "code",
      "source": [
        "plt.figure(figsize=(15,8))\n",
        "sns.boxplot(x=df_f['Salaries']).set_title('Box Plot of Salaries', fontsize=15)\n",
        "plt.show()"
      ],
      "metadata": {
        "id": "nClvsmymwM9l"
      },
      "execution_count": null,
      "outputs": []
    },
    {
      "cell_type": "code",
      "source": [
        "#distribution of salaries data with negative numbers\n",
        "plt.figure(figsize=(15,8))\n",
        "sns.distplot(df_f['Salaries'],kde=True,bins=40).set_title(' Histogram of Salaries- with outliers',fontsize=15)\n",
        "plt.show();"
      ],
      "metadata": {
        "id": "Jnon5f7JwNAf"
      },
      "execution_count": null,
      "outputs": []
    },
    {
      "cell_type": "code",
      "source": [
        "#remove outlier\n",
        "def remove_outliers(d):\n",
        "  for i in d.columns:\n",
        "    if d[i].dtypes!=\"object\":\n",
        "      lower_bound=d[i].mean()-3*d[i].std()\n",
        "      upper_bound=d[i].mean()+3*d[i].std()\n",
        "      d_I=d[(d[i]>=lower_bound)&(d[i]<=upper_bound)]\n",
        "      d_O=d[(d[i]<lower_bound)&(d[i]>upper_bound)]\n",
        "  return d_I\n",
        "\n",
        "df_f_I=remove_outliers(df_f)\n",
        "print(df_f_I.shape, df_f.shape)"
      ],
      "metadata": {
        "id": "TVKgmj1ywNC5"
      },
      "execution_count": null,
      "outputs": []
    },
    {
      "cell_type": "code",
      "source": [
        "plt.figure(figsize=(15,8))\n",
        "sns.distplot(df_f_I['Salaries'],kde=True,bins=40).set_title(' Histogram of Salaries- after removing outliers',fontsize=15)\n",
        "plt.show();"
      ],
      "metadata": {
        "id": "gYFtluA5wwyb"
      },
      "execution_count": null,
      "outputs": []
    },
    {
      "cell_type": "markdown",
      "source": [
        "Feature Engineering"
      ],
      "metadata": {
        "id": "y5U2we-fxAgx"
      }
    },
    {
      "cell_type": "markdown",
      "source": [
        "five  years interval"
      ],
      "metadata": {
        "id": "ATlJGrmrxFRS"
      }
    },
    {
      "cell_type": "code",
      "source": [
        "df_f['Five_years_period'] = ''  # Create a new column with empty values\n",
        "\n",
        "df_f['Five_years_period'] = 'second_half'  # Set the default value to 'second_half'\n",
        "df_f.loc[df_f['Year'] <= 2017, 'Five_years_period'] = 'first_half'\n",
        "df_f.dropna(axis=0)"
      ],
      "metadata": {
        "id": "mxKFuuSQxDIl"
      },
      "execution_count": null,
      "outputs": []
    },
    {
      "cell_type": "code",
      "source": [
        "display(df_f['Job'].unique())"
      ],
      "metadata": {
        "id": "Y0OKyEHOyN_y"
      },
      "execution_count": null,
      "outputs": []
    },
    {
      "cell_type": "code",
      "source": [
        "print(df_f['Job'].nunique())"
      ],
      "metadata": {
        "id": "Fra21ODdygrZ"
      },
      "execution_count": null,
      "outputs": []
    },
    {
      "cell_type": "code",
      "source": [
        "job_segment_mapping = {\n",
        "    'Community Health': ['Health', 'Medical', 'Nurse', 'Physician', 'Dentist', 'Pharmacy', 'Therapist', 'Epidemiologist', 'Paramedic', 'EMT'],\n",
        "    'Culture & Recreation': ['Library', 'Museum', 'Park', 'Recreation', 'Cultural', 'Zoo', 'Arts'],\n",
        "    'General Administration & Finance': ['Clerk', 'Assistant', 'Analyst', 'Manager', 'Director', 'Administrator', 'Accountant', 'Auditor', 'Finance', 'Budget', 'Payroll', 'Secretary', 'Coordinator', 'Officer', 'Specialist', 'Planner', 'Executive', 'Commissioner'],\n",
        "    'General City Responsibilities': ['City Planning', 'Elections', 'Human Rights', 'Ethics', 'Civil Service', 'Retirement', 'Treasurer', 'Controller', 'Attorney', 'Legal', 'Legislative'],\n",
        "    'Human Welfare & Neighborhood Development': ['Social Worker', 'Human Services', 'Probation', 'Juvenile', 'Child', 'Youth', 'Aging', 'Disability', 'Homeless', 'Housing', 'Community Development'],\n",
        "    'Public Protection': ['Police', 'Fire', 'Sheriff', 'Correction', 'Probation', 'Emergency', 'Security', 'Investigation', 'Inspector', 'Forensic'],\n",
        "    'Public Works, Transportation & Commerce': ['Engineer', 'Transit', 'Transportation', 'Public Works', 'Airport', 'MTA', 'Port', 'Utilities', 'Water', 'Wastewater', 'Street', 'Maintenance', 'Mechanic', 'Operator', 'Planner'],\n",
        "    'Other': [] # This will be for jobs that don't fit into any of the above categories\n",
        "}\n",
        "\n",
        "def assign_job_segment(job_title):\n",
        "    for segment, keywords in job_segment_mapping.items():\n",
        "        if segment != 'Other':\n",
        "            for keyword in keywords:\n",
        "                if keyword.lower() in job_title.lower():\n",
        "                    return segment\n",
        "    return 'Other'\n",
        "\n",
        "df_f['Job Segment'] = df_f['Job'].apply(assign_job_segment)\n",
        "\n",
        "# Display the distribution of job segments\n",
        "display(df_f['Job Segment'].value_counts())"
      ],
      "metadata": {
        "id": "r9-uDHp43mli"
      },
      "execution_count": null,
      "outputs": []
    },
    {
      "cell_type": "code",
      "source": [
        "display(df_f['Job Segment'].unique())"
      ],
      "metadata": {
        "id": "Ar5OrOMl3mo3"
      },
      "execution_count": null,
      "outputs": []
    },
    {
      "cell_type": "markdown",
      "source": [
        "Ploting Graphs"
      ],
      "metadata": {
        "id": "lL4-2R4EHmFE"
      }
    },
    {
      "cell_type": "markdown",
      "source": [
        "1. Two plots displaying the distribution of a single continuous variable"
      ],
      "metadata": {
        "id": "Kk1dOBVmHoiz"
      }
    },
    {
      "cell_type": "code",
      "source": [
        "# Create Histogram for Total Bebefits\n",
        "plt.figure(figsize=(15,8))\n",
        "sns.histplot(df_f['Total Benefits'], bins=30, kde=False)\n",
        "# Creating Mean and Median Lines\n",
        "plt.axvline(df_f['Total Benefits'].mean(), color='orange', linestyle='--')\n",
        "plt.axvline(df_f['Total Benefits'].median(), color='blue', linestyle='-')\n",
        "# Create and plot Mean and Median Legend\n",
        "plt.legend({'Mean':df_f['Total Benefits'].mean(),'Median':df_f['Total Benefits'].median()})\n",
        "# Define Plot Title and Labels\n",
        "plt.title('Figure 1.1: Distribution of Total Benefits')\n",
        "plt.xlabel('Total Benefits')\n",
        "plt.ylabel('Frequency')\n",
        "plt.show();"
      ],
      "metadata": {
        "id": "2FxX-vetfj7i"
      },
      "execution_count": null,
      "outputs": []
    },
    {
      "cell_type": "code",
      "metadata": {
        "id": "6b3a83f6"
      },
      "source": [
        "# Create BoxPlot for Total Benefits\n",
        "plt.figure(figsize=(15,8))\n",
        "sns.boxplot(x=df_f['Total Benefits']).set_title('Figure 1.2: Box Plot of Total Benefits', fontsize=15)\n",
        "plt.show()"
      ],
      "execution_count": null,
      "outputs": []
    },
    {
      "cell_type": "markdown",
      "source": [
        "2.Two plots displaying information about a single categorical variable"
      ],
      "metadata": {
        "id": "9osgaQ8CH5Kp"
      }
    },
    {
      "cell_type": "code",
      "source": [
        "# create unique data set of employee\n",
        "unique_employee_count_by_Organization = df_f.groupby('Organization Group')['Employee Identifier'].nunique().reset_index(name='Unique Employee Count')\n",
        "#bar plot for categorical variable\n",
        "plt.figure(figsize=(30, 8))\n",
        "fig = sns.barplot(x='Organization Group', y='Unique Employee Count', data=unique_employee_count_by_Organization, palette='magma', order=unique_employee_count_by_Organization.sort_values(by='Unique Employee Count', ascending=False)['Organization Group'])\n",
        "fig.set_title('Figure 2.1: Number of Unique Employees in Each Organization Group - Fiscal Year', fontsize=20)\n",
        "\n",
        "plt.show()\n",
        "unique_employee_count_by_Organization"
      ],
      "metadata": {
        "id": "x_loxwb5H5rY"
      },
      "execution_count": null,
      "outputs": []
    },
    {
      "cell_type": "code",
      "source": [
        "df_f_Organization_Group = df_f['Organization Group'].value_counts()\n",
        "df_f_Organization_Group_per = df_f_Organization_Group/len(df_f)*100\n",
        "plt.figure(figsize=(10,6))\n",
        "colors = sns.color_palette(\"deep\")\n",
        "plt.pie(df_f_Organization_Group_per,labels =df_f_Organization_Group_per.index,colors=colors,autopct ='%1.2f%%')\n",
        "plt.title('Figure 2.2: The Percentage of Each section in Organization Group')\n",
        "plt.show()\n"
      ],
      "metadata": {
        "id": "BzhQ7mTmICMS"
      },
      "execution_count": null,
      "outputs": []
    },
    {
      "cell_type": "markdown",
      "source": [
        "3.one plot displaying information about both a continuous variable and a categoricalvariable"
      ],
      "metadata": {
        "id": "386J7GY5IG90"
      }
    },
    {
      "cell_type": "code",
      "source": [
        "# Create Line Graph for Total Salary by Year\n",
        "plt.figure(figsize=(15, 8))\n",
        "sns.lineplot(x='Year', y='Total Salary', data= df_f, ci=None)\n",
        "plt.title('Figure 3.1: Line Graph of Total Salary by Year')\n",
        "plt.show();"
      ],
      "metadata": {
        "id": "jgNCNialIHhZ"
      },
      "execution_count": null,
      "outputs": []
    },
    {
      "cell_type": "code",
      "source": [
        "# Create BoxPlot of Total Salaries and Job Segment\n",
        "plt.figure(figsize=(15,8))\n",
        "sns.boxplot(y=df_f['Job Segment'],x=df_f['Total Salary'])\n",
        "plt.title('Figure 3.2: Boxplot of Total Salaries by Job Segment',fontsize=15)\n",
        "plt.show();"
      ],
      "metadata": {
        "id": "8oZMFLk0IKP9"
      },
      "execution_count": null,
      "outputs": []
    },
    {
      "cell_type": "markdown",
      "source": [
        "4.two plots should display information that shows a relationship between two variables"
      ],
      "metadata": {
        "id": "NIcPF0DJIRAp"
      }
    },
    {
      "cell_type": "code",
      "source": [
        "# scatter plot between salary and retirement ()\n",
        "plt.figure(figsize=(18,5))\n",
        "plt.scatter(df_f['Salaries'],df_f['Retirement'], color='blue')\n",
        "plt.title(f'Scatterplot of Salaries and Retirement- Fiscal year', fontsize=15)\n",
        "plt.xlabel('Salaries')\n",
        "plt.ylabel('Retirement')\n",
        "\n",
        "# Draw regression line\n",
        "model = LinearRegression()\n",
        "X = df_f['Salaries'].values.reshape(-1, 1)  # Reshape x to make it a 2D array\n",
        "y = df_f['Retirement']\n",
        "model.fit(X, y)\n",
        "\n",
        "# Plot the regression line\n",
        "plt.plot(df_f['Salaries'], model.predict(X), color='red', linewidth=2)\n",
        "\n",
        "# Add regression equation text to the plot\n",
        "equation_text = f'Regression Equation:\\nRetirement = {model.coef_[0]:.2f} * Salaries + {model.intercept_:.2f}'\n",
        "plt.text(0.5, 0.9 * df_f['Retirement'].max(), equation_text, fontsize=10, color='green')\n",
        "\n",
        "plt.show()"
      ],
      "metadata": {
        "id": "EjahEqo8IRe5"
      },
      "execution_count": null,
      "outputs": []
    },
    {
      "cell_type": "code",
      "source": [
        "# scatter plot between Total salary and Total Benefits ()\n",
        "plt.figure(figsize=(18,5))\n",
        "plt.scatter(df_f['Total Salary'],df_f['Total Benefits'], color='blue')\n",
        "plt.title(f'Scatterplot of Total Salary and Total Benefits- Fiscal year', fontsize=15)\n",
        "plt.xlabel('Total Salary')\n",
        "plt.ylabel('Total Benefits')\n",
        "\n",
        "# Draw regression line\n",
        "model = LinearRegression()\n",
        "X = df_f['Total Salary'].values.reshape(-1, 1)  # Reshape x to make it a 2D array\n",
        "y = df_f['Total Benefits']\n",
        "model.fit(X, y)\n",
        "\n",
        "# Plot the regression line\n",
        "plt.plot(df_f['Total Salary'], model.predict(X), color='red', linewidth=2)\n",
        "\n",
        "# Add regression equation text to the plot\n",
        "equation_text = f'Regression Equation:\\nTotal Benefits = {model.coef_[0]:.2f} * Total Salary + {model.intercept_:.2f}'\n",
        "plt.text(0.5, 0.9 * df_f['Total Benefits'].max(), equation_text, fontsize=10, color='green')\n",
        "\n",
        "plt.show()"
      ],
      "metadata": {
        "id": "P2EiFsJOIUeM"
      },
      "execution_count": null,
      "outputs": []
    },
    {
      "cell_type": "code",
      "source": [
        "# scatter plot between Retirement and Total Benefits ()\n",
        "plt.figure(figsize=(18,5))\n",
        "plt.scatter(df_f['Retirement'],df_f['Total Benefits'], color='blue')\n",
        "plt.title(f'Scatterplot of Retirement and Total Benefits- Fiscal year', fontsize=15)\n",
        "plt.xlabel('Retirement')\n",
        "plt.ylabel('Total Benefits')\n",
        "\n",
        "# Draw regression line\n",
        "model = LinearRegression()\n",
        "X = df_f['Retirement'].values.reshape(-1, 1)  # Reshape x to make it a 2D array\n",
        "y = df_f['Total Benefits']\n",
        "model.fit(X, y)\n",
        "\n",
        "# Plot the regression line\n",
        "plt.plot(df_f['Retirement'], model.predict(X), color='red', linewidth=2)\n",
        "\n",
        "# Add regression equation text to the plot\n",
        "equation_text = f'Regression Equation:\\nTotal Benefits = {model.coef_[0]:.2f} * Retirement + {model.intercept_:.2f}'\n",
        "plt.text(0.5, 0.9 * df_f['Total Benefits'].max(), equation_text, fontsize=10, color='green')\n",
        "\n",
        "plt.show()"
      ],
      "metadata": {
        "id": "m4MK21vwIrh5"
      },
      "execution_count": null,
      "outputs": []
    },
    {
      "cell_type": "markdown",
      "source": [
        "5.One plot should display information about 3 or more variables"
      ],
      "metadata": {
        "id": "9kUL9Wr6IuuC"
      }
    },
    {
      "cell_type": "code",
      "source": [
        "sns.set(style=\"whitegrid\")\n",
        "\n",
        "plt.figure(figsize=(12, 8))\n",
        "sns.boxplot(x=\"Five_years_period\", y=\"Total Salary\", hue=\"Organization Group\", data=df_f, palette=\"Set3\")\n",
        "\n",
        "plt.title(\"Box Plot of Total Compensation by Year Type and Organization Group\")\n",
        "plt.ylabel(\"Total Salary\")\n",
        "plt.xlabel(\"5 Years Period\")\n",
        "plt.xticks(rotation=45)\n",
        "\n",
        "plt.legend(loc='upper right', title=\"Organization Group\")\n",
        "plt.show()"
      ],
      "metadata": {
        "id": "grZQfqgSIvKN"
      },
      "execution_count": null,
      "outputs": []
    },
    {
      "cell_type": "code",
      "source": [],
      "metadata": {
        "id": "3VWGEa64Iw51"
      },
      "execution_count": null,
      "outputs": []
    }
  ]
}