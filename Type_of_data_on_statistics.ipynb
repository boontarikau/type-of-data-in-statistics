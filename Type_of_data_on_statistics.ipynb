{
  "nbformat": 4,
  "nbformat_minor": 0,
  "metadata": {
    "colab": {
      "private_outputs": true,
      "provenance": [],
      "mount_file_id": "1fmUBklSkqiwI4WrNNJ-rT4_2F0wyyT9k",
      "authorship_tag": "ABX9TyMesvLqG/B0yCkwfvMzWPuy",
      "include_colab_link": true
    },
    "kernelspec": {
      "name": "python3",
      "display_name": "Python 3"
    },
    "language_info": {
      "name": "python"
    }
  },
  "cells": [
    {
      "cell_type": "markdown",
      "metadata": {
        "id": "view-in-github",
        "colab_type": "text"
      },
      "source": [
        "<a href=\"https://colab.research.google.com/github/boontarikau/type-of-data-in-statistics/blob/main/Type_of_data_on_statistics.ipynb\" target=\"_parent\"><img src=\"https://colab.research.google.com/assets/colab-badge.svg\" alt=\"Open In Colab\"/></a>"
      ]
    },
    {
      "cell_type": "markdown",
      "source": [
        "Data source:\n",
        "Data is available in CSV format through the link below:\n",
        "\n",
        "(https://data.sfgov.org/City-Management-and-Ethics/Employee-Compensation/88g8-5mnd)\\\n",
        "\n",
        "Data Provided by: SF Controller's Office italicized text\n",
        "\n",
        "Dataset Owner: OpenData"
      ],
      "metadata": {
        "id": "EaGy4jziG38z"
      }
    },
    {
      "cell_type": "code",
      "source": [
        "from google.colab import drive\n",
        "drive.mount('/content/drive')"
      ],
      "metadata": {
        "id": "LKXnI_3vfQz0"
      },
      "execution_count": null,
      "outputs": []
    },
    {
      "cell_type": "markdown",
      "source": [
        "The San Francisco Controller's Office maintains a database of the salary and benefits paid to City employees since fiscal year 2013. This data is summarized and presented on the Employee Compensation report from 2013 to 2023 both in fiscal. New data is added on a bi-annual basis when available for each fiscal and calendar year."
      ],
      "metadata": {
        "id": "bBgpKlLMG8RZ"
      }
    },
    {
      "cell_type": "code",
      "source": [
        "import pandas as pd\n",
        "import numpy as np\n",
        "import matplotlib.pyplot as plt\n",
        "import seaborn as sns\n",
        "from sklearn.linear_model import LinearRegression\n",
        "import warnings\n",
        "warnings.filterwarnings('ignore')"
      ],
      "metadata": {
        "id": "U_PlWaLfG5s1"
      },
      "execution_count": null,
      "outputs": []
    },
    {
      "cell_type": "code",
      "source": [
        "df_original=pd.read_csv('/content/drive/MyDrive/analysis/stats/Copy of Employee_Compensation (1).csv')"
      ],
      "metadata": {
        "id": "6p-cIBhtCtuK"
      },
      "execution_count": null,
      "outputs": []
    },
    {
      "cell_type": "code",
      "source": [
        "#over view tha data\n",
        "df_original.head()"
      ],
      "metadata": {
        "id": "KoGh6YqHDe29"
      },
      "execution_count": null,
      "outputs": []
    },
    {
      "cell_type": "code",
      "source": [
        "#show the rows and columns of the data set\n",
        "df_original.shape"
      ],
      "metadata": {
        "id": "aUEvbPGDDgZk"
      },
      "execution_count": null,
      "outputs": []
    },
    {
      "cell_type": "code",
      "source": [
        "#find out null value\n",
        "display(df_original.isnull().sum())"
      ],
      "metadata": {
        "id": "L2lZsnHZIVNJ"
      },
      "execution_count": null,
      "outputs": []
    },
    {
      "cell_type": "markdown",
      "source": [
        "Since, there are only  Department Cod= 2 ,Department=\t2, Union Code\t=180,Union\t=179, Job\t= 5 and to compare with 881800 rows. There are less and we can remove them"
      ],
      "metadata": {
        "id": "-rpqJrY8JZAI"
      }
    },
    {
      "cell_type": "code",
      "source": [
        "#delete null value\n",
        "df = df_original.dropna()\n",
        "display(df.shape)"
      ],
      "metadata": {
        "id": "FTNCfNqQI5ht"
      },
      "execution_count": null,
      "outputs": []
    },
    {
      "cell_type": "code",
      "source": [
        "#type of each columns\n",
        "df.dtypes"
      ],
      "metadata": {
        "id": "CbZduDzPJXZR"
      },
      "execution_count": null,
      "outputs": []
    },
    {
      "cell_type": "code",
      "source": [
        "#data type casting: change data type into numeric data\n",
        "numeric_columns=['Salaries','Overtime','Other Salaries','Total Salary','Retirement','Health and Dental','Other Benefits','Total Benefits','Total Compensation']\n",
        "for i in df.columns:\n",
        "  if i not in numeric_columns:\n",
        "    df[i]=df[i].astype('object')\n",
        "df.dtypes"
      ],
      "metadata": {
        "id": "bOkxOasKNm6S"
      },
      "execution_count": null,
      "outputs": []
    },
    {
      "cell_type": "code",
      "source": [
        "df.describe()"
      ],
      "metadata": {
        "id": "D7Uvx99xrhBR"
      },
      "execution_count": null,
      "outputs": []
    },
    {
      "cell_type": "code",
      "source": [
        "#seperate fiscal and calendar to analyze the statistical describe\n",
        "df_f=df[df['Year Type']=='Fiscal']\n",
        "df_c=df[df['Year Type']=='Calendar']\n",
        "print (df_f.shape, df_c.shape)"
      ],
      "metadata": {
        "id": "-ZMlLb5SrnCP"
      },
      "execution_count": null,
      "outputs": []
    },
    {
      "cell_type": "code",
      "source": [
        "df_f.describe()"
      ],
      "metadata": {
        "id": "LVIcrf2SvW7L"
      },
      "execution_count": null,
      "outputs": []
    },
    {
      "cell_type": "code",
      "source": [
        "#from data above, ath salaries can not be negetive amount\n",
        "df_f[df['Salaries']<0]"
      ],
      "metadata": {
        "id": "sN4541vuvhHE"
      },
      "execution_count": null,
      "outputs": []
    },
    {
      "cell_type": "code",
      "source": [
        "df_f[df_f['Salaries']<0].min()"
      ],
      "metadata": {
        "id": "jmtKpHSnv0ID"
      },
      "execution_count": null,
      "outputs": []
    },
    {
      "cell_type": "code",
      "source": [
        "df_f[df_f['Salaries']>250000]"
      ],
      "metadata": {
        "id": "E-mlfumIwM6k"
      },
      "execution_count": null,
      "outputs": []
    },
    {
      "cell_type": "code",
      "source": [
        "plt.figure(figsize=(15,8))\n",
        "sns.boxplot(x=df_f['Salaries']).set_title('Box Plot of Salaries', fontsize=15)\n",
        "plt.show()"
      ],
      "metadata": {
        "id": "nClvsmymwM9l"
      },
      "execution_count": null,
      "outputs": []
    },
    {
      "cell_type": "code",
      "source": [
        "#distribution of salaries data with negative numbers\n",
        "plt.figure(figsize=(15,8))\n",
        "sns.distplot(df_f['Salaries'],kde=True,bins=40).set_title(' Histogram of Salaries- with outliers',fontsize=15)\n",
        "plt.show();"
      ],
      "metadata": {
        "id": "Jnon5f7JwNAf"
      },
      "execution_count": null,
      "outputs": []
    },
    {
      "cell_type": "code",
      "source": [
        "#remove outlier\n",
        "def remove_outliers(d):\n",
        "  for i in d.columns:\n",
        "    if d[i].dtypes!=\"object\":\n",
        "      lower_bound=d[i].mean()-3*d[i].std()\n",
        "      upper_bound=d[i].mean()+3*d[i].std()\n",
        "      d_I=d[(d[i]>=lower_bound)&(d[i]<=upper_bound)]\n",
        "      d_O=d[(d[i]<lower_bound)&(d[i]>upper_bound)]\n",
        "  return d_I\n",
        "\n",
        "df_f_I=remove_outliers(df_f)\n",
        "print(df_f_I.shape, df_f.shape)"
      ],
      "metadata": {
        "id": "TVKgmj1ywNC5"
      },
      "execution_count": null,
      "outputs": []
    },
    {
      "cell_type": "code",
      "source": [
        "plt.figure(figsize=(15,8))\n",
        "sns.distplot(df_f_I['Salaries'],kde=True,bins=40).set_title(' Histogram of Salaries- after removing outliers',fontsize=15)\n",
        "plt.show();"
      ],
      "metadata": {
        "id": "gYFtluA5wwyb"
      },
      "execution_count": null,
      "outputs": []
    },
    {
      "cell_type": "markdown",
      "source": [
        "Feature Engineering"
      ],
      "metadata": {
        "id": "y5U2we-fxAgx"
      }
    },
    {
      "cell_type": "markdown",
      "source": [
        "five  years interval"
      ],
      "metadata": {
        "id": "ATlJGrmrxFRS"
      }
    },
    {
      "cell_type": "code",
      "source": [
        "df_f['Five_years_period'] = ''  # Create a new column with empty values\n",
        "\n",
        "df_f['Five_years_period'] = 'second_half'  # Set the default value to 'second_half'\n",
        "df_f.loc[df_f['Year'] <= 2017, 'Five_years_period'] = 'first_half'\n",
        "df_f.dropna(axis=0)"
      ],
      "metadata": {
        "id": "mxKFuuSQxDIl"
      },
      "execution_count": null,
      "outputs": []
    },
    {
      "cell_type": "code",
      "source": [
        "display(df_f['Job'].unique())"
      ],
      "metadata": {
        "id": "Y0OKyEHOyN_y"
      },
      "execution_count": null,
      "outputs": []
    },
    {
      "cell_type": "code",
      "source": [
        "print(df_f['Job'].nunique())"
      ],
      "metadata": {
        "id": "Fra21ODdygrZ"
      },
      "execution_count": null,
      "outputs": []
    },
    {
      "cell_type": "code",
      "source": [
        "job_segment_mapping = {\n",
        "    'Community Health': ['Health', 'Medical', 'Nurse', 'Physician', 'Dentist', 'Pharmacy', 'Therapist', 'Epidemiologist', 'Paramedic', 'EMT'],\n",
        "    'Culture & Recreation': ['Library', 'Museum', 'Park', 'Recreation', 'Cultural', 'Zoo', 'Arts'],\n",
        "    'General Administration & Finance': ['Clerk', 'Assistant', 'Analyst', 'Manager', 'Director', 'Administrator', 'Accountant', 'Auditor', 'Finance', 'Budget', 'Payroll', 'Secretary', 'Coordinator', 'Officer', 'Specialist', 'Planner', 'Executive', 'Commissioner'],\n",
        "    'General City Responsibilities': ['City Planning', 'Elections', 'Human Rights', 'Ethics', 'Civil Service', 'Retirement', 'Treasurer', 'Controller', 'Attorney', 'Legal', 'Legislative'],\n",
        "    'Human Welfare & Neighborhood Development': ['Social Worker', 'Human Services', 'Probation', 'Juvenile', 'Child', 'Youth', 'Aging', 'Disability', 'Homeless', 'Housing', 'Community Development'],\n",
        "    'Public Protection': ['Police', 'Fire', 'Sheriff', 'Correction', 'Probation', 'Emergency', 'Security', 'Investigation', 'Inspector', 'Forensic'],\n",
        "    'Public Works, Transportation & Commerce': ['Engineer', 'Transit', 'Transportation', 'Public Works', 'Airport', 'MTA', 'Port', 'Utilities', 'Water', 'Wastewater', 'Street', 'Maintenance', 'Mechanic', 'Operator', 'Planner'],\n",
        "    'Other': [] # This will be for jobs that don't fit into any of the above categories\n",
        "}\n",
        "\n",
        "def assign_job_segment(job_title):\n",
        "    for segment, keywords in job_segment_mapping.items():\n",
        "        if segment != 'Other':\n",
        "            for keyword in keywords:\n",
        "                if keyword.lower() in job_title.lower():\n",
        "                    return segment\n",
        "    return 'Other'\n",
        "\n",
        "df_f['Job Segment'] = df_f['Job'].apply(assign_job_segment)\n",
        "\n",
        "# Display the distribution of job segments\n",
        "display(df_f['Job Segment'].value_counts())"
      ],
      "metadata": {
        "id": "r9-uDHp43mli"
      },
      "execution_count": null,
      "outputs": []
    },
    {
      "cell_type": "code",
      "source": [
        "display(df_f['Job Segment'].unique())"
      ],
      "metadata": {
        "id": "Ar5OrOMl3mo3"
      },
      "execution_count": null,
      "outputs": []
    },
    {
      "cell_type": "markdown",
      "source": [
        "Ploting Graphs"
      ],
      "metadata": {
        "id": "lL4-2R4EHmFE"
      }
    },
    {
      "cell_type": "markdown",
      "source": [
        "![image.png](data:image/png;base64,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)"
      ],
      "metadata": {
        "id": "YU_-2dBAw5xY"
      }
    },
    {
      "cell_type": "markdown",
      "source": [
        "1. Two plots displaying the distribution of a single continuous variable"
      ],
      "metadata": {
        "id": "Kk1dOBVmHoiz"
      }
    },
    {
      "cell_type": "code",
      "source": [
        "# Create Histogram for Total Bebefits\n",
        "plt.figure(figsize=(15,8))\n",
        "sns.histplot(df_f['Total Benefits'], bins=30, kde=False)\n",
        "# Creating Mean and Median Lines\n",
        "plt.axvline(df_f['Total Benefits'].mean(), color='orange', linestyle='--')\n",
        "plt.axvline(df_f['Total Benefits'].median(), color='blue', linestyle='-')\n",
        "# Create and plot Mean and Median Legend\n",
        "plt.legend({'Mean':df_f['Total Benefits'].mean(),'Median':df_f['Total Benefits'].median()})\n",
        "# Define Plot Title and Labels\n",
        "plt.title('Figure 1.1: Distribution of Total Benefits')\n",
        "plt.xlabel('Total Benefits')\n",
        "plt.ylabel('Frequency')\n",
        "plt.show();"
      ],
      "metadata": {
        "id": "2FxX-vetfj7i"
      },
      "execution_count": null,
      "outputs": []
    },
    {
      "cell_type": "markdown",
      "source": [
        "Chart Description\n",
        "\n",
        "Title: Figure 1.1: Distribution of Total Benefits\n",
        "\n",
        "X-axis (horizontal): Total Benefits (monetary value, ranging from 0 to about 200,000).\n",
        "\n",
        "Y-axis (vertical): Frequency (number of employees).\n",
        "\n",
        "Graph Type: Histogram\n",
        "\n",
        "Variable: Total Benefits (numerical, continuous)\n",
        "\n",
        "Orange dashed line: Mean (average).\n",
        "\n",
        "Blue solid line: Median (middle value).\n",
        "\n",
        "The mean is slightly lower than the median →  left-skewed"
      ],
      "metadata": {
        "id": "GI4ouG-lsIAY"
      }
    },
    {
      "cell_type": "markdown",
      "source": [
        "The chart shows that most employees get about 30k–40k in benefits, but some low-benefit cases pull the mean below the median, making the distribution left-skewed.\n"
      ],
      "metadata": {
        "id": "bL5XwCFJnlea"
      }
    },
    {
      "cell_type": "code",
      "metadata": {
        "id": "6b3a83f6"
      },
      "source": [
        "# Create BoxPlot for Total Benefits\n",
        "plt.figure(figsize=(15,8))\n",
        "sns.boxplot(x=df_f['Total Benefits']).set_title('Figure 1.2: Box Plot of Total Benefits', fontsize=15)\n",
        "plt.show()"
      ],
      "execution_count": null,
      "outputs": []
    },
    {
      "cell_type": "markdown",
      "source": [
        "Chart Description\n",
        "\n",
        "Title: Figure 1.2: Box Plot of Total Benefits\n",
        "\n",
        "X-axis: Total Benefits (0 to ~200,000).\n",
        "\n",
        "The box plot shows the distribution of data through quartiles and highlights outliers.\n",
        "\n"
      ],
      "metadata": {
        "id": "s7bnZeP5uK1U"
      }
    },
    {
      "cell_type": "markdown",
      "source": [
        "Breakdown of the Box Plot\n",
        "\n",
        "Box (Interquartile Range, IQR):\n",
        "\n",
        "The thick box represents the middle 50% of employees (from Q1 to Q3).\n",
        "\n",
        "The vertical line inside the box marks the median (~34,000).\n",
        "\n",
        "Most employees’ benefits lie roughly between 20,000 and 50,000.\n",
        "\n",
        "Whiskers:\n",
        "\n",
        "The horizontal lines extending from the box show the approximate range of “typical” values.\n",
        "\n",
        "Left whisker: shows some employees with very low benefits.\n",
        "\n",
        "Right whisker: extends toward higher benefits (~100,000).\n",
        "\n",
        "Outliers:\n",
        "\n",
        "Dots to the far right represent employees with unusually high benefits (>100,000).\n",
        "\n",
        "These are relatively rare but pull the range outward."
      ],
      "metadata": {
        "id": "x-qfMoiavBN5"
      }
    },
    {
      "cell_type": "markdown",
      "source": [
        "The box plot confirms that while most employees have benefits in the 20k–50k range, a small number of employees receive very high benefits, which are marked as outliers. This complements the histogram by showing not just the distribution, but also the quartiles, median, and extreme cases."
      ],
      "metadata": {
        "id": "Ty2ofN0CvXuz"
      }
    },
    {
      "cell_type": "markdown",
      "source": [],
      "metadata": {
        "id": "vQKTANLmuYga"
      }
    },
    {
      "cell_type": "markdown",
      "source": [
        "2.Two plots displaying information about a single categorical variable"
      ],
      "metadata": {
        "id": "9osgaQ8CH5Kp"
      }
    },
    {
      "cell_type": "code",
      "source": [
        "# create unique data set of employee\n",
        "unique_employee_count_by_Organization = df_f.groupby('Organization Group')['Employee Identifier'].nunique().reset_index(name='Unique Employee Count')\n",
        "#bar plot for categorical variable\n",
        "plt.figure(figsize=(30, 8))\n",
        "fig = sns.barplot(x='Organization Group', y='Unique Employee Count', data=unique_employee_count_by_Organization, palette='magma', order=unique_employee_count_by_Organization.sort_values(by='Unique Employee Count', ascending=False)['Organization Group'])\n",
        "fig.set_title('Figure 2.1: Number of Unique Employees in Each Organization Group - Fiscal Year', fontsize=20)\n",
        "\n",
        "plt.show()\n",
        "unique_employee_count_by_Organization"
      ],
      "metadata": {
        "id": "x_loxwb5H5rY"
      },
      "execution_count": null,
      "outputs": []
    },
    {
      "cell_type": "markdown",
      "source": [
        "Chart Description\n",
        "\n",
        "Title: Figure 2.1: Number of Unique Employees in Each Organization Group – Fiscal Year\n",
        "\n",
        "X-axis: Organization Groups (categories).\n",
        "\n",
        "Y-axis: Unique Employee Count (number of employees).\n",
        "\n",
        "Each bar shows the total number of unique employees in that organization group during the fiscal year."
      ],
      "metadata": {
        "id": "Cx1vjJ5-xU_x"
      }
    },
    {
      "cell_type": "markdown",
      "source": [
        "This chart shows that most employees work in Public Works, Community Health, and Public Protection, while groups like Culture & Recreation or Human Welfare & Neighborhood Development are smaller in size. It highlights the city’s priorities in infrastructure, health, and safety."
      ],
      "metadata": {
        "id": "9BwVgdycx4zf"
      }
    },
    {
      "cell_type": "code",
      "source": [
        "df_f_Organization_Group = df_f['Organization Group'].value_counts()\n",
        "df_f_Organization_Group_per = df_f_Organization_Group/len(df_f)*100\n",
        "plt.figure(figsize=(10,6))\n",
        "colors = sns.color_palette(\"deep\")\n",
        "plt.pie(df_f_Organization_Group_per,labels =df_f_Organization_Group_per.index,colors=colors,autopct ='%1.2f%%')\n",
        "plt.title('Figure 2.2: The Percentage of Each section in Organization Group')\n",
        "plt.show()\n"
      ],
      "metadata": {
        "id": "BzhQ7mTmICMS"
      },
      "execution_count": null,
      "outputs": []
    },
    {
      "cell_type": "markdown",
      "source": [
        "Chart Description\n",
        "\n",
        "Title: Figure 2.2: The Percentage of Each Section in Organization Group\n",
        "\n",
        "Type: Pie Chart (proportional distribution).\n",
        "\n",
        "Each slice represents the percentage share of employees in that group."
      ],
      "metadata": {
        "id": "FhM6JRsigIUk"
      }
    },
    {
      "cell_type": "markdown",
      "source": [
        "The pie chart visually confirms the unequal distribution of employees across organization groups: about one-third in Public Works, one-fifth in Community Health, another one-fifth in Public Protection, and the rest spread across smaller administrative and service categories."
      ],
      "metadata": {
        "id": "HSq4ddv_gcyz"
      }
    },
    {
      "cell_type": "markdown",
      "source": [
        "3.one plot displaying information about both a continuous variable and a categoricalvariable"
      ],
      "metadata": {
        "id": "386J7GY5IG90"
      }
    },
    {
      "cell_type": "code",
      "source": [
        "# Create Line Graph for Total Salary by Year\n",
        "plt.figure(figsize=(15, 8))\n",
        "sns.lineplot(x='Year', y='Total Salary', data= df_f, ci=None)\n",
        "plt.title('Figure 3.1: Line Graph of Total Salary by Year')\n",
        "plt.show();"
      ],
      "metadata": {
        "id": "jgNCNialIHhZ"
      },
      "execution_count": null,
      "outputs": []
    },
    {
      "cell_type": "markdown",
      "source": [
        "Chart Description\n",
        "\n",
        "Title: Figure 3.1: Line Graph of Total Salary by Year\n",
        "\n",
        "X-axis: Year (2013–2023).\n",
        "\n",
        "Y-axis: Total Salary (average or aggregated values, in dollars).\n",
        "\n",
        "Graph type: Line plot, showing trend over time."
      ],
      "metadata": {
        "id": "90_X6WouhVeq"
      }
    },
    {
      "cell_type": "markdown",
      "source": [
        "The line chart shows that employee salaries were flat until 2015, then began to rise steadily. Since 2016, there’s been continuous and accelerating growth, with the biggest increases occurring after 2019, pushing average salaries above 110,000 by 2023."
      ],
      "metadata": {
        "id": "20ZAqRzBhedi"
      }
    },
    {
      "cell_type": "code",
      "source": [
        "# Create BoxPlot of Total Salaries and Job Segment\n",
        "plt.figure(figsize=(15,8))\n",
        "sns.boxplot(y=df_f['Job Segment'],x=df_f['Total Salary'])\n",
        "plt.title('Figure 3.2: Boxplot of Total Salaries by Job Segment',fontsize=15)\n",
        "plt.show();"
      ],
      "metadata": {
        "id": "8oZMFLk0IKP9"
      },
      "execution_count": null,
      "outputs": []
    },
    {
      "cell_type": "markdown",
      "source": [
        "Chart Description\n",
        "\n",
        "Title: Figure 3.2: Boxplot of Total Salaries by Job Segment\n",
        "\n",
        "X-axis: Total Salary (range from negative outliers up to 600,000+).\n",
        "\n",
        "Y-axis: Job Segments (organization categories, e.g., Community Health, Public Protection).\n",
        "\n",
        "Each horizontal box shows the salary distribution within that job segment."
      ],
      "metadata": {
        "id": "dFtkHxA0itT9"
      }
    },
    {
      "cell_type": "markdown",
      "source": [
        "Key Insights\n",
        "\n",
        "Salary structures vary widely across job segments.\n",
        "\n",
        "Public Protection and Community Health dominate in both median salaries and extreme outliers, suggesting a mix of stable staff and very highly compensated roles.\n",
        "\n",
        "Culture & Recreation shows the most consistent (and lowest) salaries, which may reflect more uniform pay grades.\n",
        "\n",
        "The abundance of outliers suggests pay inequality within each group, with a small number of very highly paid employees.\n",
        "\n",
        "High-paying sectors: Public Protection, Community Health.\n",
        "\n",
        "Mid-range sectors: General Admin & Finance, Public Works.\n",
        "\n",
        "Lower-paying sectors: Culture & Recreation, Human Welfare."
      ],
      "metadata": {
        "id": "jGANPmtSjlMv"
      }
    },
    {
      "cell_type": "markdown",
      "source": [
        "This box plot reveals significant salary disparities across job segments. While most employees in each group earn clustered amounts (20k–200k), some roles push salaries far beyond 500k, especially in Public Protection and Community Health. Smaller sectors like Culture & Recreation and Human Welfare have narrower and lower salary ranges, showing less pay variation."
      ],
      "metadata": {
        "id": "9vJkxdBSi1_Z"
      }
    },
    {
      "cell_type": "markdown",
      "source": [
        "4.two plots should display information that shows a relationship between two variables"
      ],
      "metadata": {
        "id": "NIcPF0DJIRAp"
      }
    },
    {
      "cell_type": "code",
      "source": [
        "# scatter plot between salary and retirement ()\n",
        "plt.figure(figsize=(18,5))\n",
        "plt.scatter(df_f['Salaries'],df_f['Retirement'], color='blue')\n",
        "plt.title(f'Scatterplot of Salaries and Retirement- Fiscal year', fontsize=15)\n",
        "plt.xlabel('Salaries')\n",
        "plt.ylabel('Retirement')\n",
        "\n",
        "# Draw regression line\n",
        "model = LinearRegression()\n",
        "X = df_f['Salaries'].values.reshape(-1, 1)  # Reshape x to make it a 2D array\n",
        "y = df_f['Retirement']\n",
        "model.fit(X, y)\n",
        "\n",
        "# Plot the regression line\n",
        "plt.plot(df_f['Salaries'], model.predict(X), color='red', linewidth=2)\n",
        "\n",
        "# Add regression equation text to the plot\n",
        "equation_text = f'Regression Equation:\\nRetirement = {model.coef_[0]:.2f} * Salaries + {model.intercept_:.2f}'\n",
        "plt.text(0.5, 0.9 * df_f['Retirement'].max(), equation_text, fontsize=10, color='green')\n",
        "\n",
        "plt.show()"
      ],
      "metadata": {
        "id": "EjahEqo8IRe5"
      },
      "execution_count": null,
      "outputs": []
    },
    {
      "cell_type": "markdown",
      "source": [],
      "metadata": {
        "id": "i138ID6RmRhB"
      }
    },
    {
      "cell_type": "markdown",
      "source": [
        "Title: Scatterplot of Salaries and Retirement – Fiscal year\n",
        "\n",
        "X-axis: Salaries (employee base pay).\n",
        "\n",
        "Y-axis: Retirement (retirement contributions).\n",
        "\n",
        "Blue Dots: Each point = one employee.\n",
        "\n",
        "Red Line: Regression line (best fit).\n",
        "\n",
        "Equation shown: Retirement=0.21×Salaries−357.83"
      ],
      "metadata": {
        "id": "eNhLKklDleDb"
      }
    },
    {
      "cell_type": "markdown",
      "source": [
        "Direct Link: Retirement contributions are positively correlated with salary — higher salary generally means higher retirement contributions.\n",
        "\n",
        "Policy Implication: The slope of 0.21 suggests roughly 21% of salary is allocated to retirement on average (though actual contribution rates may vary by job/union agreements).\n",
        "\n",
        "Variation: The wide scatter shows that while salary is the biggest driver, other factors (union rules, employee type, job code, etc.) affect retirement amounts.\n",
        "\n",
        "Outliers: Some negative and unusual values should be investigated for data quality issues.\n"
      ],
      "metadata": {
        "id": "Pyg3MVDFmTnT"
      }
    },
    {
      "cell_type": "markdown",
      "source": [
        "This scatterplot confirms a positive correlation between salaries and retirement benefits. The fitted regression line suggests an approximate 21% contribution rate relative to salary. However, significant scatter and outliers indicate variability across employees, pointing to differences in job classifications or retirement plan structures."
      ],
      "metadata": {
        "id": "M-2t-ipKme6X"
      }
    },
    {
      "cell_type": "code",
      "source": [
        "# scatter plot between Total salary and Total Benefits ()\n",
        "plt.figure(figsize=(18,5))\n",
        "plt.scatter(df_f['Total Salary'],df_f['Total Benefits'], color='blue')\n",
        "plt.title(f'Scatterplot of Total Salary and Total Benefits- Fiscal year', fontsize=15)\n",
        "plt.xlabel('Total Salary')\n",
        "plt.ylabel('Total Benefits')\n",
        "\n",
        "# Draw regression line\n",
        "model = LinearRegression()\n",
        "X = df_f['Total Salary'].values.reshape(-1, 1)  # Reshape x to make it a 2D array\n",
        "y = df_f['Total Benefits']\n",
        "model.fit(X, y)\n",
        "\n",
        "# Plot the regression line\n",
        "plt.plot(df_f['Total Salary'], model.predict(X), color='red', linewidth=2)\n",
        "\n",
        "# Add regression equation text to the plot\n",
        "equation_text = f'Regression Equation:\\nTotal Benefits = {model.coef_[0]:.2f} * Total Salary + {model.intercept_:.2f}'\n",
        "plt.text(0.5, 0.9 * df_f['Total Benefits'].max(), equation_text, fontsize=10, color='green')\n",
        "\n",
        "plt.show()"
      ],
      "metadata": {
        "id": "P2EiFsJOIUeM"
      },
      "execution_count": null,
      "outputs": []
    },
    {
      "cell_type": "markdown",
      "source": [
        "Chart Description\n",
        "\n",
        "Title: Scatterplot of Total Salary and Total Benefits – Fiscal year\n",
        "\n",
        "X-axis: Total Salary.\n",
        "\n",
        "Y-axis: Total Benefits.\n",
        "\n",
        "Blue dots: Each represents an employee (salary vs. benefits).\n",
        "\n",
        "Red line: Regression line (best linear fit).\n",
        "\n",
        "Regression equation (shown in green): Total Benefits=0.28×Total Salary+6506.20"
      ],
      "metadata": {
        "id": "q4PxgVSxnlZ_"
      }
    },
    {
      "cell_type": "markdown",
      "source": [
        "Key Insights\n",
        "\n",
        "Direct Link: Benefits are strongly tied to salary, with an approximate 28% proportional relationship.\n",
        "\n",
        "Baseline Benefits: All employees appear to receive at least ~$6.5k in benefits, regardless of salary level.\n",
        "\n",
        "Inequality in Benefits: Variation across employees suggests that salary is not the sole determinant — job roles, agreements, and employment terms matter.\n",
        "\n",
        "High Earners: Outliers confirm that a small subset of employees receives very high compensation packages, reinforcing the skew seen in the histogram and boxplots earlier."
      ],
      "metadata": {
        "id": "RcAKDcewnlco"
      }
    },
    {
      "cell_type": "markdown",
      "source": [
        "Summary:\n",
        "This scatterplot confirms a positive and proportional relationship between salary and benefits. On average, employees receive benefits worth about 28% of their salary, plus a base package (~$6.5k). While the trend is clear, the scatter shows considerable variation, reflecting differences in job types and policies."
      ],
      "metadata": {
        "id": "X9UYRmOOnlfb"
      }
    },
    {
      "cell_type": "code",
      "source": [
        "# scatter plot between Retirement and Total Benefits ()\n",
        "plt.figure(figsize=(18,5))\n",
        "plt.scatter(df_f['Retirement'],df_f['Total Benefits'], color='blue')\n",
        "plt.title(f'Scatterplot of Retirement and Total Benefits- Fiscal year', fontsize=15)\n",
        "plt.xlabel('Retirement')\n",
        "plt.ylabel('Total Benefits')\n",
        "\n",
        "# Draw regression line\n",
        "model = LinearRegression()\n",
        "X = df_f['Retirement'].values.reshape(-1, 1)  # Reshape x to make it a 2D array\n",
        "y = df_f['Total Benefits']\n",
        "model.fit(X, y)\n",
        "\n",
        "# Plot the regression line\n",
        "plt.plot(df_f['Retirement'], model.predict(X), color='red', linewidth=2)\n",
        "\n",
        "# Add regression equation text to the plot\n",
        "equation_text = f'Regression Equation:\\nTotal Benefits = {model.coef_[0]:.2f} * Retirement + {model.intercept_:.2f}'\n",
        "plt.text(0.5, 0.9 * df_f['Total Benefits'].max(), equation_text, fontsize=10, color='green')\n",
        "\n",
        "plt.show()"
      ],
      "metadata": {
        "id": "m4MK21vwIrh5"
      },
      "execution_count": null,
      "outputs": []
    },
    {
      "cell_type": "markdown",
      "source": [
        "Title: Scatterplot of Retirement and Total Benefits – Fiscal year\n",
        "\n",
        "X-axis: Retirement (retirement contributions).\n",
        "\n",
        "Y-axis: Total Benefits (overall benefits, including retirement, health, dental, etc.).\n",
        "\n",
        "Blue dots: Each employee’s data point.\n",
        "\n",
        "Red line: Regression line (best fit).\n",
        "\n",
        "Equation (in green): Total Benefits=1.56×Retirement+6555.02"
      ],
      "metadata": {
        "id": "bW2qxkSToWpt"
      }
    },
    {
      "cell_type": "markdown",
      "source": [
        "Key Insights\n",
        "\n",
        "Retirement is a core component of benefits: The slope (1.56) means Total Benefits grow more than proportionally with Retirement.\n",
        "\n",
        "Standard baseline: All employees receive at least ~$6.5k in benefits regardless of retirement contributions.\n",
        "\n",
        "Stronger link than Salary vs Benefits: Compared to your earlier scatterplot (Salary vs Benefits, slope = 0.28), this chart shows that benefits are more directly tied to Retirement contributions than to salaries.\n",
        "\n",
        "Variation exists, but less scattered than in Salary vs Retirement → suggesting Retirement is a better predictor of Total Benefits than Salary."
      ],
      "metadata": {
        "id": "R4MEcE66odh1"
      }
    },
    {
      "cell_type": "markdown",
      "source": [
        "This scatterplot highlights that Retirement contributions strongly determine Total Benefits. Employees receive roughly $1.56 in total benefits for every $1 in retirement contributions, plus a baseline package (~$6.5k). This relationship is stronger and more consistent than the link between salary and benefits, underscoring the importance of retirement as a core benefit driver."
      ],
      "metadata": {
        "id": "Sv2G1YQAoq3E"
      }
    },
    {
      "cell_type": "markdown",
      "source": [
        "5.One plot should display information about 3 or more variables"
      ],
      "metadata": {
        "id": "9kUL9Wr6IuuC"
      }
    },
    {
      "cell_type": "code",
      "source": [
        "sns.set(style=\"whitegrid\")\n",
        "\n",
        "plt.figure(figsize=(12, 8))\n",
        "sns.boxplot(x=\"Five_years_period\", y=\"Total Salary\", hue=\"Organization Group\", data=df_f, palette=\"Set3\")\n",
        "\n",
        "plt.title(\"Box Plot of Total Compensation by Year Type and Organization Group\")\n",
        "plt.ylabel(\"Total Salary\")\n",
        "plt.xlabel(\"5 Years Period\")\n",
        "plt.xticks(rotation=45)\n",
        "\n",
        "plt.legend(loc='upper right', title=\"Organization Group\")\n",
        "plt.show()"
      ],
      "metadata": {
        "id": "grZQfqgSIvKN"
      },
      "execution_count": null,
      "outputs": []
    },
    {
      "cell_type": "markdown",
      "source": [
        "Chart Description\n",
        "\n",
        "Title: Box Plot of Total Compensation by Year Type and Organization Group\n",
        "\n",
        "X-axis: 5 Years Period → divided into first_half and second_half.\n",
        "\n",
        "Y-axis: Total Salary (Total Compensation).\n",
        "\n",
        "Groups (colors): Different Organization Groups (e.g., Community Health, Public Protection).\n",
        "\n",
        "Each box shows the median, quartiles, and spread of compensation for each group, with outliers plotted as dots."
      ],
      "metadata": {
        "id": "D-u2yoMwpUC6"
      }
    },
    {
      "cell_type": "markdown",
      "source": [
        "Key Insights\n",
        "\n",
        "Time Effect: Compensation has grown across all groups in the later years.\n",
        "\n",
        "Inequality Within Groups: Some groups (Public Protection, Community Health) show both high medians and huge variation, suggesting diverse job roles.\n",
        "\n",
        "Stable vs. Variable Groups:\n",
        "\n",
        "Culture & Recreation and Human Welfare are more uniform, with smaller spreads.\n",
        "\n",
        "Public Protection and Community Health are highly unequal, with extreme outliers."
      ],
      "metadata": {
        "id": "Uuy1mkbSpp37"
      }
    },
    {
      "cell_type": "markdown",
      "source": [
        "This chart shows that total compensation has increased over time across all organization groups, but the magnitude and variability differ widely by sector. Public Protection and Community Health dominate in pay levels and disparities, while groups like Culture & Recreation and Human Welfare remain lower and more stable. Outliers in every group highlight the presence of exceptionally high earners, likely senior officials or specialized roles."
      ],
      "metadata": {
        "id": "6RKoDBEQp0PS"
      }
    },
    {
      "cell_type": "code",
      "source": [],
      "metadata": {
        "id": "KhquHeZhp0vt"
      },
      "execution_count": null,
      "outputs": []
    }
  ]
}